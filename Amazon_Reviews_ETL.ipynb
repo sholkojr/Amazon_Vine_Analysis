{
  "nbformat": 4,
  "nbformat_minor": 0,
  "metadata": {
    "colab": {
      "name": "Amazon_Reviews_ETL.ipynb",
      "provenance": [],
      "collapsed_sections": [],
      "include_colab_link": true
    },
    "kernelspec": {
      "display_name": "PythonData",
      "language": "python",
      "name": "pythondata"
    },
    "language_info": {
      "codemirror_mode": {
        "name": "ipython",
        "version": 3
      },
      "file_extension": ".py",
      "mimetype": "text/x-python",
      "name": "python",
      "nbconvert_exporter": "python",
      "pygments_lexer": "ipython3",
      "version": "3.7.7"
    },
    "nteract": {
      "version": "0.12.3"
    }
  },
  "cells": [
    {
      "cell_type": "markdown",
      "metadata": {
        "id": "view-in-github",
        "colab_type": "text"
      },
      "source": [
        "<a href=\"https://colab.research.google.com/github/sholkojr/Amazon_Vine_Analysis/blob/main/Amazon_Reviews_ETL.ipynb\" target=\"_parent\"><img src=\"https://colab.research.google.com/assets/colab-badge.svg\" alt=\"Open In Colab\"/></a>"
      ]
    },
    {
      "cell_type": "code",
      "metadata": {
        "colab": {
          "base_uri": "https://localhost:8080/"
        },
        "id": "V58rxea0HqSa",
        "outputId": "5e11b094-36ad-4091-8a86-0c80c115f43f"
      },
      "source": [
        "import os\n",
        "# Find the latest version of spark 2.0  from http://www-us.apache.org/dist/spark/ and enter as the spark version\n",
        "# For example:\n",
        "# spark_version = 'spark-3.0.0'\n",
        "spark_version = 'spark-3.0.1'\n",
        "os.environ['SPARK_VERSION']=spark_version\n",
        "\n",
        "# Install Spark and Java\n",
        "!apt-get update\n",
        "!apt-get install openjdk-11-jdk-headless -qq > /dev/null\n",
        "!wget -q http://www-us.apache.org/dist/spark/$SPARK_VERSION/$SPARK_VERSION-bin-hadoop2.7.tgz\n",
        "!tar xf $SPARK_VERSION-bin-hadoop2.7.tgz\n",
        "!pip install -q findspark\n",
        "\n",
        "# Set Environment Variables\n",
        "import os\n",
        "os.environ[\"JAVA_HOME\"] = \"/usr/lib/jvm/java-11-openjdk-amd64\"\n",
        "os.environ[\"SPARK_HOME\"] = f\"/content/{spark_version}-bin-hadoop2.7\"\n",
        "\n",
        "# Start a SparkSession\n",
        "import findspark\n",
        "findspark.init()"
      ],
      "execution_count": null,
      "outputs": [
        {
          "output_type": "stream",
          "text": [
            "\r0% [Working]\r            \rHit:1 https://cloud.r-project.org/bin/linux/ubuntu bionic-cran40/ InRelease\n",
            "\r0% [Connecting to archive.ubuntu.com] [Connecting to security.ubuntu.com (91.18\r0% [1 InRelease gpgv 3,626 B] [Connecting to archive.ubuntu.com (91.189.88.152)\r                                                                               \rIgn:2 https://developer.download.nvidia.com/compute/cuda/repos/ubuntu1804/x86_64  InRelease\n",
            "Ign:3 https://developer.download.nvidia.com/compute/machine-learning/repos/ubuntu1804/x86_64  InRelease\n",
            "Hit:4 https://developer.download.nvidia.com/compute/cuda/repos/ubuntu1804/x86_64  Release\n",
            "Hit:5 https://developer.download.nvidia.com/compute/machine-learning/repos/ubuntu1804/x86_64  Release\n",
            "Get:6 http://ppa.launchpad.net/c2d4u.team/c2d4u4.0+/ubuntu bionic InRelease [15.9 kB]\n",
            "Get:7 http://security.ubuntu.com/ubuntu bionic-security InRelease [88.7 kB]\n",
            "Hit:8 http://archive.ubuntu.com/ubuntu bionic InRelease\n",
            "Get:9 http://archive.ubuntu.com/ubuntu bionic-updates InRelease [88.7 kB]\n",
            "Hit:11 http://ppa.launchpad.net/graphics-drivers/ppa/ubuntu bionic InRelease\n",
            "Get:13 http://archive.ubuntu.com/ubuntu bionic-backports InRelease [74.6 kB]\n",
            "Get:14 http://ppa.launchpad.net/c2d4u.team/c2d4u4.0+/ubuntu bionic/main Sources [1,699 kB]\n",
            "Get:15 http://ppa.launchpad.net/c2d4u.team/c2d4u4.0+/ubuntu bionic/main amd64 Packages [869 kB]\n",
            "Fetched 2,836 kB in 4s (747 kB/s)\n",
            "Reading package lists... Done\n"
          ],
          "name": "stdout"
        }
      ]
    },
    {
      "cell_type": "code",
      "metadata": {
        "colab": {
          "base_uri": "https://localhost:8080/"
        },
        "id": "_xKwTpATHqSe",
        "outputId": "3d577542-de50-41bd-d627-bcc0759433b6"
      },
      "source": [
        "# Download the Postgres driver that will allow Spark to interact with Postgres.\n",
        "!wget https://jdbc.postgresql.org/download/postgresql-42.2.16.jar"
      ],
      "execution_count": null,
      "outputs": [
        {
          "output_type": "stream",
          "text": [
            "--2020-12-13 20:07:30--  https://jdbc.postgresql.org/download/postgresql-42.2.16.jar\n",
            "Resolving jdbc.postgresql.org (jdbc.postgresql.org)... 72.32.157.228, 2001:4800:3e1:1::228\n",
            "Connecting to jdbc.postgresql.org (jdbc.postgresql.org)|72.32.157.228|:443... connected.\n",
            "HTTP request sent, awaiting response... 200 OK\n",
            "Length: 1002883 (979K) [application/java-archive]\n",
            "Saving to: ‘postgresql-42.2.16.jar.1’\n",
            "\n",
            "postgresql-42.2.16. 100%[===================>] 979.38K  3.39MB/s    in 0.3s    \n",
            "\n",
            "2020-12-13 20:07:31 (3.39 MB/s) - ‘postgresql-42.2.16.jar.1’ saved [1002883/1002883]\n",
            "\n"
          ],
          "name": "stdout"
        }
      ]
    },
    {
      "cell_type": "code",
      "metadata": {
        "id": "MMqDAjVS0KN9"
      },
      "source": [
        "from pyspark.sql import SparkSession\n",
        "spark = SparkSession.builder.appName(\"BigData-Challenge\").config(\"spark.driver.extraClassPath\",\"/content/postgresql-42.2.16.jar\").getOrCreate()"
      ],
      "execution_count": null,
      "outputs": []
    },
    {
      "cell_type": "markdown",
      "metadata": {
        "id": "cyBsySGuY-9V"
      },
      "source": [
        "### Load Amazon Data into Spark DataFrame"
      ]
    },
    {
      "cell_type": "code",
      "metadata": {
        "colab": {
          "base_uri": "https://localhost:8080/"
        },
        "id": "CtCmBhQJY-9Z",
        "outputId": "bee9871d-dee6-41df-99a6-b054c1a4eae5"
      },
      "source": [
        "from pyspark import SparkFiles\n",
        "url = \"https://s3.amazonaws.com/amazon-reviews-pds/tsv/amazon_reviews_us_Sports_v1_00.tsv.gz\"\n",
        "spark.sparkContext.addFile(url)\n",
        "df = spark.read.option(\"encoding\", \"UTF-8\").csv(SparkFiles.get(\"\"), sep=\"\\t\", header=True, inferSchema=True)\n",
        "df.show(truncate=False)"
      ],
      "execution_count": null,
      "outputs": [
        {
          "output_type": "stream",
          "text": [
            "+-----------+-----------+--------------+----------+--------------+--------------------------------------------------------------------------------------------------------------------+----------------+-----------+-------------+-----------+----+-----------------+-----------------------------------------------------------------------+-----------------------------------------------------------------------------------------------------------------------------------------------------------------------------------------------------------------------------------------------------------------------------------------------------------------------------------------------------------------------------------------------------------------------------------------------------------------------------------------------------------------------------------------------------------------------------------------------------------------------------+-----------+\n",
            "|marketplace|customer_id|review_id     |product_id|product_parent|product_title                                                                                                       |product_category|star_rating|helpful_votes|total_votes|vine|verified_purchase|review_headline                                                        |review_body                                                                                                                                                                                                                                                                                                                                                                                                                                                                                                                                                                                                                  |review_date|\n",
            "+-----------+-----------+--------------+----------+--------------+--------------------------------------------------------------------------------------------------------------------+----------------+-----------+-------------+-----------+----+-----------------+-----------------------------------------------------------------------+-----------------------------------------------------------------------------------------------------------------------------------------------------------------------------------------------------------------------------------------------------------------------------------------------------------------------------------------------------------------------------------------------------------------------------------------------------------------------------------------------------------------------------------------------------------------------------------------------------------------------------+-----------+\n",
            "|US         |48945260   |R1WBPB8MDCCN8F|B012P7UPSM|409940130     |Chicago Blackhawks Adult Cuff Knit Beanie w/ Pom One Size Fits All NHL Authentic Hat Cap - OSFA                     |Sports          |5          |0            |0          |N   |N                |LOVE IT. 6 stars!                                                      |Bought this last winter I love it! I'm female and the hat is so comfy and fits over my ears perfectly to keep me warm! Love love love this hat! Can't wait for this winter  :)                                                                                                                                                                                                                                                                                                                                                                                                                                               |2015-08-31 |\n",
            "|US         |5782091    |R32M0YEWV77XG8|B001GQ3VHG|657746679     |Copag Poker Size Regular Index 1546 Playing Cards 2 decks (Black Gold Setup)                                        |Sports          |5          |1            |1          |N   |Y                |Shipped fast.                                                          |These are the best plastic playing cards I've ever owned. I came here from another plastic set called &#34;Bicycle: Prestige&#34;. These copags put those to shame.                                                                                                                                                                                                                                                                                                                                                                                                                                                          |2015-08-31 |\n",
            "|US         |45813853   |RR8V7WR27NXJ5 |B008VS8M58|962442336     |Baoer 223 5.56x45mm Caliber Cartridge Laser Bore Sighter Boresighter                                                |Sports          |1          |0            |0          |N   |Y                |Good idea if it would work.                                            |It looks good, the fit and finish were really good but it doesn't WORK! There's a short in it some where. The laser will work a few seconds and then it goes off. I replaced batteries with some new ones and it did the same thing. I replaced the new batteries with some more new ones and it did the same thing. So they're getting it back. If you're going to make something why not make sure it works? You don't make money getting it returned to you. If you can't do it for $6 bucks then charge $12. I'd much rather pay more for something that actually works as half price for a piece of junk that don't.    |2015-08-31 |\n",
            "|US         |1593730    |R1MHO5V9Z932AY|B005F06F4U|74305227      |All Terrain Tackle Jig - Grass Master - June Bug - 3/4oz- 2 Pack                                                    |Sports          |5          |0            |0          |N   |Y                |Five Stars                                                             |Great jig                                                                                                                                                                                                                                                                                                                                                                                                                                                                                                                                                                                                                    |2015-08-31 |\n",
            "|US         |29605511   |R16PD71086BD2V|B010T4IE2C|787185588     |Swim Cap - 3 Pack (Blue, Black & Red)                                                                               |Sports          |5          |0            |1          |N   |N                |Great quality silicon and very comfortable                             |I love swimming in the pool but my treated blonde hair gets really green from all the chlorine . I did order these caps through a special promotion to try them and share my honest opinion. I absolutely love them. They fit very well and snug to my head but yet can fit my daughter's extra long hair in it, and let me state here she has a lot of hair. Bright colors help me see where they are swimming , I just rinse them with tap water when I get home and hang to dry. Super elastic and again super comfortable .Mad of silicon they are super durable. Comes in zippered bags for storage.I do recommend them!|2015-08-31 |\n",
            "|US         |11112959   |R1Z8IFGWTRWXT6|B004RKJGLS|94127483      |adidas Men's Sport Performance Climalite Boxer Brief, Two-Pack                                                      |Sports          |3          |0            |0          |N   |Y                |Love everything about these except that the elastic waistband comes ...|Love everything about these except that the elastic waistband comes unraveled and comes apart!! perfectly sized, light, comfortable, great colors, great price. perfect material and concept just don't have much build quality                                                                                                                                                                                                                                                                                                                                                                                              |2015-08-31 |\n",
            "|US         |108031     |R3AUMSHAW73HWN|B005V3DCBU|526977496     |Nike Men's Performance Cotton Cushioned Crew Socks                                                                  |Sports          |4          |2            |3          |N   |N                |Four Stars                                                             |not the best socks in the world but it still has good quality. thanks!                                                                                                                                                                                                                                                                                                                                                                                                                                                                                                                                                       |2015-08-31 |\n",
            "|US         |13981540   |R2KWDWFOHGX6FL|B00MHT9WN8|26521265      |Green Bay Packers NFL Team Apparel Women's Forward Progress Shirt Plus Sizes                                        |Sports          |5          |0            |0          |N   |Y                |Five Stars                                                             |Love it                                                                                                                                                                                                                                                                                                                                                                                                                                                                                                                                                                                                                      |2015-08-31 |\n",
            "|US         |37993909   |R3H9543FWBWFBU|B001CSIRQ8|652431165     |Isokinetics Inc. Adjustable Balance Board - 16.5\" Round - 2 Levels of Difficulty - For Exercise and Physical Therapy|Sports          |5          |1            |1          |N   |Y                |can't wait to use it                                                   |Unfortunately I haven't been able to use my balance board as I just had surgery in my foot. But it arrived in good condition however the box itself was damaged                                                                                                                                                                                                                                                                                                                                                                                                                                                              |2015-08-31 |\n",
            "|US         |26040213   |RUANXOQ9W3OU5 |B001KZ3NOO|635861713     |Aottop Quality Electronic Digital Vernier Caliper                                                                   |Sports          |5          |0            |0          |N   |Y                |great product, accurate A+++                                           |fast shipping , great product , accurate A+++                                                                                                                                                                                                                                                                                                                                                                                                                                                                                                                                                                                |2015-08-31 |\n",
            "|US         |34657602   |R31673RTGEZSW7|B00005RCQS|72099763      |Everlast 2'x6' Folding Mat                                                                                          |Sports          |5          |2            |2          |N   |Y                |this mat is a pretty good solution                                     |If you have a terrifying habit of falling out bed and the constant near death experiences that come with it, this mat is a pretty good solution.  Just slide it out from under your bed every night and cheat the reaper of a beautiful corpse.                                                                                                                                                                                                                                                                                                                                                                              |2015-08-31 |\n",
            "|US         |14346192   |R22OQLFSH42RCM|B00FA7RWVI|757354022     |OGIO Men's Shredder Stand Bag                                                                                       |Sports          |5          |1            |1          |N   |Y                |Versatile Golf Bag                                                     |Love this golf bag, I have been using this both with a pull cart and also the regular golf cart.<br /><br />Has enough pockets to hold every thing you generally take to the course, the bag is sturdy.                                                                                                                                                                                                                                                                                                                                                                                                                      |2015-08-31 |\n",
            "|US         |38782687   |R12LEL4F3TSZUJ|B000MMH2HU|272402599     |Blue Sea Systems A-Series Double Blank Mounting Panel                                                               |Sports          |5          |2            |2          |N   |Y                |Great AC Main Breaker mounting panel!                                  |Perfect mounting items for the main AC breakers. My boat had aging AC breakers so i decided to make a starboard panel on use these mounting plates to label the main breakers. Excellent item and the reverse polarity light was a nice upgrade for the main breakers in the cockpit cabinet.<br /><br />The panels do not come with a light, so you will need two of the following, one red/one green (or you can choose) [[ASIN:B000K2IKPK Blue Sea Systems 120V AC LED, Green]]                                                                                                                                           |2015-08-31 |\n",
            "|US         |27138575   |R2L9XWD03072NI|B00WJOATDS|375070208     |Zengi AR15 45 Degree Offset Front and Rear Flip up Iron Sights, Back-up Iron Sights B.I.U.S                         |Sports          |5          |1            |2          |N   |Y                |Nice, some quirks                                                      |For the cost you can't judge... Given the chance to do it again I would.                                                                                                                                                                                                                                                                                                                                                                                                                                                                                                                                                     |2015-08-31 |\n",
            "|US         |11838771   |R2K0U91HIACANO|B00BOM2JNY|639666785     |Black Mountain Products Static Strength Exercise Stability Ball with Pump, 2000 lb/55cm, Blue                       |Sports          |5          |0            |0          |N   |N                |55 cm - Good quality - easy to start using                             |The ball is very sturdy and of good quality. The pump made it easy to start using it quickly without much effort. Just perfect for my height (55cm) (I'm 5'3&#34;)                                                                                                                                                                                                                                                                                                                                                                                                                                                           |2015-08-31 |\n",
            "|US         |535800     |R29SP6MBT7MXG7|B00OD5GAFM|38715442      |Trijicon VCOG 1-6x24 Riflescope Ballistic Reticle                                                                   |Sports          |4          |3            |3          |N   |Y                |Very nice scope.                                                       |Very nice scope...there isn't really anything bad I can say about the VCOG...other than the price.  It's a great scope, but not sure it's worth the $2500+ price tag.  There are a lot of other scopes that are similar in the $1500-2000 range, but probably not as rugged as the VCOG is.  If money isn't an issue, then this is as good as it gets.                                                                                                                                                                                                                                                                       |2015-08-31 |\n",
            "|US         |23156579   |R31XREAAMATEPY|B00CAHDC1K|57088652      |Naruto Headband for Ninja Shinobi - Sand Village (Sunagakure)                                                       |Sports          |5          |0            |0          |N   |Y                |was for my son and he was both excited and pleased with it             |This item                                                                                                                                                                                                                                                                                                                                                                                                                                                                                                                                                                                                                    |2015-08-31 |\n",
            "|US         |48107879   |R2116AVB87SO38|B004NLHXLG|114125984     |Under Armour Men's Resistor Low-Cut Socks (6 Pack)                                                                  |Sports          |5          |0            |0          |N   |Y                |Five Stars                                                             |greatest socks i have ever had!! a real performance sock!!                                                                                                                                                                                                                                                                                                                                                                                                                                                                                                                                                                   |2015-08-31 |\n",
            "|US         |27260960   |R3RDVBB6O0X3HW|B00L7OANWI|883962979     |Yes4All Deep Tissue Massage AccuPoint Roller (Clearance Sale)                                                       |Sports          |5          |0            |0          |N   |Y                |Five Stars                                                             |Perfect for home use. As Described. Good Price                                                                                                                                                                                                                                                                                                                                                                                                                                                                                                                                                                               |2015-08-31 |\n",
            "|US         |39537314   |R3LW5T149LKKQM|B0085PPSIQ|691479969     |Lansky PS-MED01 BladeMedic                                                                                          |Sports          |4          |0            |0          |N   |Y                |A bit heavy for pocket carry but works very well.                      |Very good product and works as described. Only problem I had was it is made out of some kind of cast metal and it's heavy for pocket carry.<br />Should of made out of a strong plastic as the smaller pocket Lansky sharpener is.                                                                                                                                                                                                                                                                                                                                                                                           |2015-08-31 |\n",
            "+-----------+-----------+--------------+----------+--------------+--------------------------------------------------------------------------------------------------------------------+----------------+-----------+-------------+-----------+----+-----------------+-----------------------------------------------------------------------+-----------------------------------------------------------------------------------------------------------------------------------------------------------------------------------------------------------------------------------------------------------------------------------------------------------------------------------------------------------------------------------------------------------------------------------------------------------------------------------------------------------------------------------------------------------------------------------------------------------------------------+-----------+\n",
            "only showing top 20 rows\n",
            "\n"
          ],
          "name": "stdout"
        }
      ]
    },
    {
      "cell_type": "markdown",
      "metadata": {
        "id": "2yUSe55VY-9t"
      },
      "source": [
        "### Create DataFrames to match tables"
      ]
    },
    {
      "cell_type": "code",
      "metadata": {
        "colab": {
          "base_uri": "https://localhost:8080/"
        },
        "id": "C8REmY1aY-9u",
        "outputId": "889f8af0-c63a-41c0-abe9-1102ce7fa746"
      },
      "source": [
        "from pyspark.sql.functions import to_date\n",
        "# Read in the Review dataset as a DataFrame\n",
        "df = spark.read.option(\"encoding\", \"UTF-8\").csv(SparkFiles.get(\"\"), sep=\"\\t\", header=True, inferSchema=True)\n",
        "df.printSchema()"
      ],
      "execution_count": null,
      "outputs": [
        {
          "output_type": "stream",
          "text": [
            "root\n",
            " |-- marketplace: string (nullable = true)\n",
            " |-- customer_id: integer (nullable = true)\n",
            " |-- review_id: string (nullable = true)\n",
            " |-- product_id: string (nullable = true)\n",
            " |-- product_parent: integer (nullable = true)\n",
            " |-- product_title: string (nullable = true)\n",
            " |-- product_category: string (nullable = true)\n",
            " |-- star_rating: string (nullable = true)\n",
            " |-- helpful_votes: integer (nullable = true)\n",
            " |-- total_votes: integer (nullable = true)\n",
            " |-- vine: string (nullable = true)\n",
            " |-- verified_purchase: string (nullable = true)\n",
            " |-- review_headline: string (nullable = true)\n",
            " |-- review_body: string (nullable = true)\n",
            " |-- review_date: string (nullable = true)\n",
            "\n"
          ],
          "name": "stdout"
        }
      ]
    },
    {
      "cell_type": "code",
      "metadata": {
        "colab": {
          "base_uri": "https://localhost:8080/"
        },
        "id": "B0TESUDRY-90",
        "outputId": "f0098490-1912-4e6a-9da9-95f9f0b6855f"
      },
      "source": [
        "# Create the customers_table DataFrame\n",
        "customers_df = df.groupby(\"customer_id\").count().withColumnRenamed(\"count\", \"customer_count\") # alternate method\n",
        "# customers_df = df.groupby(\"customer_id\").agg({\"customer_id\": \"count\"}).withColumnRenamed(\"count(customer_id)\", \"customer_count\").sort(col(\"count\").desc())\n",
        "customers_df.show()"
      ],
      "execution_count": null,
      "outputs": [
        {
          "output_type": "stream",
          "text": [
            "+-----------+--------------+\n",
            "|customer_id|customer_count|\n",
            "+-----------+--------------+\n",
            "|   35669025|             1|\n",
            "|   48198949|            30|\n",
            "|   43355824|             6|\n",
            "|   33014261|             6|\n",
            "|   23493243|             1|\n",
            "|   30717305|             4|\n",
            "|   15714077|             2|\n",
            "|    7854719|             1|\n",
            "|   12761428|             2|\n",
            "|   14127895|             1|\n",
            "|   51451778|             4|\n",
            "|    3452965|             1|\n",
            "|   40430762|             2|\n",
            "|   27314089|            15|\n",
            "|   11405991|             1|\n",
            "|   20368048|             2|\n",
            "|   33967841|             2|\n",
            "|   10418855|             1|\n",
            "|   43783459|             1|\n",
            "|   50843047|             4|\n",
            "+-----------+--------------+\n",
            "only showing top 20 rows\n",
            "\n"
          ],
          "name": "stdout"
        }
      ]
    },
    {
      "cell_type": "code",
      "metadata": {
        "colab": {
          "base_uri": "https://localhost:8080/"
        },
        "id": "4FwXA6UvY-96",
        "outputId": "d2b4f9a9-ea42-4eb0-8bd7-6e60a24e29f9"
      },
      "source": [
        "# Create the products_table DataFrame and drop duplicates. \n",
        "products_df = df.select([\"product_id\", \"product_title\"]).drop_duplicates(subset=[\"product_id\"])\n",
        "\n",
        "products_df.show()"
      ],
      "execution_count": null,
      "outputs": [
        {
          "output_type": "stream",
          "text": [
            "+----------+--------------------+\n",
            "|product_id|       product_title|\n",
            "+----------+--------------------+\n",
            "|1570340439|Compass & Map Nav...|\n",
            "|9879000633|Swordmaster - Uni...|\n",
            "|B00004RAN1|24x7x7 Pro Cage Trap|\n",
            "|B00005OU7P|Putt and Return P...|\n",
            "|B00005V3EN|Airzone Trampolin...|\n",
            "|B00008Z7M2|Koolatron 401619 ...|\n",
            "|B0000AAEMO|Seahawks Franklin...|\n",
            "|B0000AI0K1|Outdoor Cap Heavy...|\n",
            "|B0000ANGL1|NFL Men's New Yor...|\n",
            "|B0000ANHRR|Heatgear Loose Lo...|\n",
            "|B0000AU3AK|Everlast Genuine ...|\n",
            "|B0000AUTWD|Cubby 5011 Mini Mite|\n",
            "|B0000AVZBW|G- Lox  Deerskin ...|\n",
            "|B0000AXJT5|Pro Mex Professio...|\n",
            "|B0000AXNWO|   Ande Fluorocarbon|\n",
            "|B0000AXUET|Star brite Brush ...|\n",
            "|B0000AY199|DU-BRO Fishing Tr...|\n",
            "|B0000AYEE8|Attwood Stainiles...|\n",
            "|B0000AYGZ1|Attwood Stainless...|\n",
            "|B0000AZ8LS|Tacstar 4-Shot Re...|\n",
            "+----------+--------------------+\n",
            "only showing top 20 rows\n",
            "\n"
          ],
          "name": "stdout"
        }
      ]
    },
    {
      "cell_type": "code",
      "metadata": {
        "id": "43kBBFSrNcHy"
      },
      "source": [
        "# Load in a sql function to use columns\r\n",
        "from pyspark.sql.functions import col"
      ],
      "execution_count": null,
      "outputs": []
    },
    {
      "cell_type": "code",
      "metadata": {
        "colab": {
          "base_uri": "https://localhost:8080/"
        },
        "id": "MkqyCuNQY-9-",
        "outputId": "80d05425-d39e-4c30-cdee-acf87043fc19"
      },
      "source": [
        "# Create the review_id_table DataFrame. \n",
        "# Convert the 'review_date' column to a date datatype with to_date(\"review_date\", 'yyyy-MM-dd').alias(\"review_date\")\n",
        "# df = df.withColumn(\"review_date\", to_date(col(\"review_date\"), \"yyyy-mm-dd\"))\n",
        "review_id_df = df.select([\"review_id\", \"customer_id\", \"product_id\", \"product_parent\", to_date(\"review_date\", 'yyyy-MM-dd').alias(\"review_date\")])\n",
        "\n",
        "review_id_df.groupBy(\"review_id\").count().orderBy(\"count\").show()"
      ],
      "execution_count": null,
      "outputs": [
        {
          "output_type": "stream",
          "text": [
            "+--------------+-----+\n",
            "|     review_id|count|\n",
            "+--------------+-----+\n",
            "| ROVT8XIK2DDO0|    1|\n",
            "|R22AUY7W5NHTT4|    1|\n",
            "|R3KH9N4G2FYQ0C|    1|\n",
            "|R3PPT0PJ6CKAI4|    1|\n",
            "|R2S3FVU9L7NQ4X|    1|\n",
            "| RG9Z0SPLM7LEF|    1|\n",
            "|R1H3CYEPR1WE0U|    1|\n",
            "| RNWMZNIJUMM6E|    1|\n",
            "| RJTVQ9ML2KB1T|    1|\n",
            "|R3GFDW3TD9DYGR|    1|\n",
            "|R3CUD0AQKMXOLK|    1|\n",
            "|R35WIYDRORLBN9|    1|\n",
            "| R9R6OLN6WCZVY|    1|\n",
            "|R30Y6FZAL4EIY5|    1|\n",
            "|R3GTRDKJAHZ41E|    1|\n",
            "|R3KFFHVK1A5XXS|    1|\n",
            "|R3LZOA1GV0PJQ6|    1|\n",
            "|R33JRZQ4YSPDEM|    1|\n",
            "| RWNA8FFDVZWWI|    1|\n",
            "| R1XT6LLIAVWWC|    1|\n",
            "+--------------+-----+\n",
            "only showing top 20 rows\n",
            "\n"
          ],
          "name": "stdout"
        }
      ]
    },
    {
      "cell_type": "code",
      "metadata": {
        "id": "Dg6mrotViDny"
      },
      "source": [
        "from pyspark.sql.types import IntegerType"
      ],
      "execution_count": null,
      "outputs": []
    },
    {
      "cell_type": "code",
      "metadata": {
        "colab": {
          "base_uri": "https://localhost:8080/"
        },
        "id": "lzMmkdKmY--D",
        "outputId": "1c7e0902-bd13-480e-9d81-472bccaed8c0"
      },
      "source": [
        "# Create the vine_table. DataFrame\n",
        "vine_df = df.select([\"review_id\", \"star_rating\", \"helpful_votes\", \"total_votes\", \"vine\", \"verified_purchase\"]).withColumn(\"star_rating\", df[\"star_rating\"].cast(IntegerType()))\n",
        "\n",
        "vine_df.printSchema()"
      ],
      "execution_count": null,
      "outputs": [
        {
          "output_type": "stream",
          "text": [
            "root\n",
            " |-- review_id: string (nullable = true)\n",
            " |-- star_rating: integer (nullable = true)\n",
            " |-- helpful_votes: integer (nullable = true)\n",
            " |-- total_votes: integer (nullable = true)\n",
            " |-- vine: string (nullable = true)\n",
            " |-- verified_purchase: string (nullable = true)\n",
            "\n"
          ],
          "name": "stdout"
        }
      ]
    },
    {
      "cell_type": "markdown",
      "metadata": {
        "id": "jITZhLkmY--J"
      },
      "source": [
        "### Connect to the AWS RDS instance and write each DataFrame to its table. "
      ]
    },
    {
      "cell_type": "code",
      "metadata": {
        "id": "7jiUvs1aY--L"
      },
      "source": [
        "# Configure settings for RDS\n",
        "mode = \"append\"\n",
        "jdbc_url=\"jdbc:postgresql://sholkojr-vine-reviews.cf8axnf1hz1r.us-east-2.rds.amazonaws.com:5432/amazon_reviews_db\"\n",
        "config = {\"user\":\"postgres\", \n",
        "          \"password\": \"password\", \n",
        "          \"driver\":\"org.postgresql.Driver\"}"
      ],
      "execution_count": null,
      "outputs": []
    },
    {
      "cell_type": "code",
      "metadata": {
        "id": "T2zgZ-aKY--Q"
      },
      "source": [
        "# Write review_id_df to table in RDS\n",
        "review_id_df.write.jdbc(url=jdbc_url, table='review_id_table', mode=mode, properties=config)"
      ],
      "execution_count": null,
      "outputs": []
    },
    {
      "cell_type": "code",
      "metadata": {
        "id": "1m3yzn-LY--U"
      },
      "source": [
        "# Write products_df to table in RDS\n",
        "# about 3 min\n",
        "products_df.write.jdbc(url=jdbc_url, table='products_table', mode=mode, properties=config)"
      ],
      "execution_count": null,
      "outputs": []
    },
    {
      "cell_type": "code",
      "metadata": {
        "id": "KbXri15fY--Z"
      },
      "source": [
        "# Write customers_df to table in RDS\n",
        "# 5 min 14 s\n",
        "customers_df.write.jdbc(url=jdbc_url, table='customers_table', mode=mode, properties=config)"
      ],
      "execution_count": null,
      "outputs": []
    },
    {
      "cell_type": "code",
      "metadata": {
        "id": "XdQknSHLY--e"
      },
      "source": [
        "# Write vine_df to table in RDS\n",
        "# 11 minutes\n",
        "vine_df.write.jdbc(url=jdbc_url, table='vine_table', mode=mode, properties=config)"
      ],
      "execution_count": null,
      "outputs": []
    }
  ]
}